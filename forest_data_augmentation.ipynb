{
  "nbformat": 4,
  "nbformat_minor": 0,
  "metadata": {
    "colab": {
      "provenance": [],
      "authorship_tag": "ABX9TyM7GdckQeA+j3kS1qPur0or",
      "include_colab_link": true
    },
    "kernelspec": {
      "name": "python3",
      "display_name": "Python 3"
    },
    "language_info": {
      "name": "python"
    }
  },
  "cells": [
    {
      "cell_type": "markdown",
      "metadata": {
        "id": "view-in-github",
        "colab_type": "text"
      },
      "source": [
        "<a href=\"https://colab.research.google.com/github/pewtpong/wespace-forest-ml/blob/main/forest_data_augmentation.ipynb\" target=\"_parent\"><img src=\"https://colab.research.google.com/assets/colab-badge.svg\" alt=\"Open In Colab\"/></a>"
      ]
    },
    {
      "cell_type": "code",
      "execution_count": null,
      "metadata": {
        "colab": {
          "base_uri": "https://localhost:8080/"
        },
        "id": "o7kgyT1N0K1H",
        "outputId": "9c5e573a-d3ce-428c-c356-f6fd6027b564"
      },
      "outputs": [
        {
          "output_type": "stream",
          "name": "stdout",
          "text": [
            "Mounted at /content/gdrive\n"
          ]
        }
      ],
      "source": [
        "from google.colab import drive\n",
        "drive.mount('/content/gdrive')"
      ]
    },
    {
      "cell_type": "code",
      "source": [
        "import pandas as pd\n",
        "import os\n",
        "import numpy as np\n",
        "import cv2\n",
        "import argparse\n",
        "import time\n",
        "from tqdm import tqdm\n",
        "from google.colab.patches import cv2_imshow\n",
        "import glob\n",
        "import shutil "
      ],
      "metadata": {
        "id": "nl26U42_0d43"
      },
      "execution_count": null,
      "outputs": []
    },
    {
      "cell_type": "code",
      "source": [
        "def drawRect(df, image):\n",
        "  temp_df = df.copy()\n",
        "  temp_image = image.copy()\n",
        "  for index, row in temp_df.reset_index().iterrows():\n",
        "    # print(row[\"xmin\"], row[\"ymin\"], row[\"xmax\"], row[\"ymax\"])\n",
        "    start_point = (row[\"xmin\"], row[\"ymin\"])\n",
        "    end_point = (row[\"xmax\"], row[\"ymax\"])\n",
        "    color = (0, 0, 255)\n",
        "    thickness = 1\n",
        "    temp_image = cv2.rectangle(temp_image, start_point, end_point, color, thickness)\n",
        "  return temp_image\n"
      ],
      "metadata": {
        "id": "BHx0iVBaDUNq"
      },
      "execution_count": null,
      "outputs": []
    },
    {
      "cell_type": "code",
      "source": [
        "def rotate_image(image, angle):\n",
        "  \"\"\"\n",
        "  Rotates an image (angle in degrees) and expands image to avoid cropping\n",
        "  \"\"\"\n",
        "  height, width = image.shape[:2]  # image shape has 3 dimensions\n",
        "  image_center = (width / 2,\n",
        "                  height / 2)  # getRotationMatrix2D needs coordinates in reverse order (width, height) compared to shape\n",
        "  rotation_mat = cv2.getRotationMatrix2D(image_center, angle, 1.)\n",
        "  # rotation calculates the cos and sin, taking absolutes of those.\n",
        "  abs_cos = abs(rotation_mat[0, 0])\n",
        "  abs_sin = abs(rotation_mat[0, 1])\n",
        "  # find the new width and height bounds\n",
        "  bound_w = int(height * abs_sin + width * abs_cos)\n",
        "  bound_h = int(height * abs_cos + width * abs_sin)\n",
        "  # subtract old image center (bringing image back to origin) and adding the new image center coordinates\n",
        "  rotation_mat[0, 2] += bound_w / 2 - image_center[0]\n",
        "  rotation_mat[1, 2] += bound_h / 2 - image_center[1]\n",
        "  # rotate image with the new bounds and translated rotation matrix\n",
        "  rotated_mat = cv2.warpAffine(image, rotation_mat, (bound_w, bound_h))\n",
        "  return rotated_mat"
      ],
      "metadata": {
        "id": "JHwDFL7E30_l"
      },
      "execution_count": null,
      "outputs": []
    },
    {
      "cell_type": "code",
      "source": [
        "def rotateBox(image, df, angle, filePath):\n",
        "  temp_df = df.copy()\n",
        "\n",
        "  h, w = image.shape[:2] \n",
        "  cx, cy = (int(w / 2), int(h / 2))\n",
        "  outArr = []\n",
        "  listFilePath = filePath.split(\"/\")[-1].split(\".\")\n",
        "  fileName = listFilePath[0] + \"_angle_{}\".format(angle) + \".{}\".format(listFilePath[1])\n",
        "  for index, row in temp_df.reset_index().iterrows():\n",
        "    bbox_tuple = [\n",
        "            (row[\"xmin\"], row[\"ymin\"]),\n",
        "            (row[\"xmax\"], row[\"ymax\"]),\n",
        "        ] # put x and y coordinates in tuples, we will iterate through the tuples and perform rotation\n",
        "\n",
        "    rotated_bbox = []\n",
        "\n",
        "    for i, coord in enumerate(bbox_tuple):\n",
        "\n",
        "      M = cv2.getRotationMatrix2D((cx, cy), angle, 1.0)\n",
        "      cos, sin = abs(M[0, 0]), abs(M[0, 1])\n",
        "      newW = int((h * sin) + (w * cos))\n",
        "      newH = int((h * cos) + (w * sin))\n",
        "      M[0, 2] += (newW / 2) - cx\n",
        "      M[1, 2] += (newH / 2) - cy\n",
        "      v = [coord[0], coord[1], 1]\n",
        "      adjusted_coord = np.dot(M, v)\n",
        "      rotated_bbox.insert(i, (adjusted_coord[0], adjusted_coord[1]))\n",
        "\n",
        "    result = [int(x) for t in rotated_bbox for x in t]\n",
        "    if angle % 90 != 0:\n",
        "      temp_w = (result[2] - result[0]) // 2\n",
        "      result[1] = max(0, result[1] - temp_w)\n",
        "      result[3] = result[3] + temp_w\n",
        "\n",
        "    result.insert(0, fileName)\n",
        "    result.append(row['label'])\n",
        "    outArr.append(result)\n",
        "  return outArr, fileName\n",
        "  \n"
      ],
      "metadata": {
        "id": "Z4laQx-VTcYQ"
      },
      "execution_count": null,
      "outputs": []
    },
    {
      "cell_type": "code",
      "source": [
        "location = \"benja\"\n",
        "train_file = \"/content/gdrive/MyDrive/ML_purpose/forest/csv/{}/{}_train.csv\".format(location, location)"
      ],
      "metadata": {
        "id": "NAO-zy6e0qXz"
      },
      "execution_count": null,
      "outputs": []
    },
    {
      "cell_type": "markdown",
      "source": [
        "# Combine"
      ],
      "metadata": {
        "id": "Yt4mC6lqOGzG"
      }
    },
    {
      "cell_type": "markdown",
      "source": [
        "## Copy image folder"
      ],
      "metadata": {
        "id": "9rIALwDaTTs7"
      }
    },
    {
      "cell_type": "code",
      "source": [
        "src = '/content/gdrive/MyDrive/ML_purpose/forest/{}_raw'.format(location)\n",
        "dest = '/content/gdrive/MyDrive/ML_purpose/forest/{}_train'.format(location)\n",
        "    \n",
        "destination = shutil.copytree(src, dest) "
      ],
      "metadata": {
        "id": "b_9qm2qNTNfA"
      },
      "execution_count": null,
      "outputs": []
    },
    {
      "cell_type": "markdown",
      "source": [
        "## Delete unused file in train"
      ],
      "metadata": {
        "id": "ndRd100vhxmU"
      }
    },
    {
      "cell_type": "code",
      "source": [
        "raw_df = pd.read_csv(\"/content/gdrive/MyDrive/ML_purpose/forest/csv/{}/{}_train.csv\".format(location, location))\n",
        "useful_image = raw_df[\"image_path\"].unique().tolist()\n",
        "file_list = glob.glob('/content/gdrive/MyDrive/ML_purpose/forest/{}_train/*.png'.format(location))"
      ],
      "metadata": {
        "id": "m31h0g9dh2ZS"
      },
      "execution_count": null,
      "outputs": []
    },
    {
      "cell_type": "code",
      "source": [
        "angles = [90, 180, 270]\n",
        "\n",
        "imgRoot = '/content/gdrive/MyDrive/ML_purpose/forest/{}_train/{}'\n",
        "\n",
        "out_arr = []\n",
        "out_arr.append(raw_df)\n",
        "for filePath in file_list:\n",
        "  fileName = filePath.split(\"/\")[-1]\n",
        "  if fileName not in useful_image:\n",
        "    os.remove(filePath)\n",
        "    continue\n",
        "  image = cv2.imread(filePath)\n",
        "  temp_df = raw_df[raw_df[\"image_path\"] == fileName]\n",
        "  for angle in angles:\n",
        "    rotated_image = rotate_image(image, angle)\n",
        "    out, newFileName = rotateBox(image, temp_df, angle, filePath)\n",
        "    rotated_df = pd.DataFrame(out, columns = ['image_path', 'xmin', 'ymin', 'xmax', 'ymax', 'label'])\n",
        "    cv2.imwrite(imgRoot.format(location, newFileName), rotated_image)\n",
        "    out_arr.append(rotated_df)\n",
        "\n",
        "out_df = pd.concat(out_arr).reset_index()[['image_path', 'xmin', 'ymin', 'xmax', 'ymax', 'label']]\n",
        "for index, row in out_df.iterrows():\n",
        "  if row[\"xmax\"] < row[\"xmin\"]:\n",
        "    row[\"xmax\"], row[\"xmin\"] = row[\"xmin\"], row[\"xmax\"]\n",
        "  if row[\"ymax\"] < row[\"ymin\"]:\n",
        "    row[\"ymax\"], row[\"ymin\"] = row[\"ymin\"], row[\"ymax\"]"
      ],
      "metadata": {
        "id": "8Quy9OfPZkmd"
      },
      "execution_count": null,
      "outputs": []
    },
    {
      "cell_type": "code",
      "source": [
        "out_df = out_df[(out_df[\"ymax\"] > out_df[\"ymin\"]) & (out_df[\"xmax\"] > out_df[\"xmin\"])]"
      ],
      "metadata": {
        "id": "9JhYQ5eGYj27"
      },
      "execution_count": null,
      "outputs": []
    },
    {
      "cell_type": "code",
      "source": [
        "out_df[out_df[\"xmax\"] <= out_df[\"xmin\"]]"
      ],
      "metadata": {
        "id": "7tq8DeBTkIIP",
        "outputId": "732ffc00-1837-4262-f75c-0cecbfb743ff",
        "colab": {
          "base_uri": "https://localhost:8080/",
          "height": 49
        }
      },
      "execution_count": null,
      "outputs": [
        {
          "output_type": "execute_result",
          "data": {
            "text/plain": [
              "Empty DataFrame\n",
              "Columns: [image_path, xmin, ymin, xmax, ymax, label]\n",
              "Index: []"
            ],
            "text/html": [
              "\n",
              "  <div id=\"df-b07e2148-ca27-43a2-bb5e-95a2ae6ff09d\">\n",
              "    <div class=\"colab-df-container\">\n",
              "      <div>\n",
              "<style scoped>\n",
              "    .dataframe tbody tr th:only-of-type {\n",
              "        vertical-align: middle;\n",
              "    }\n",
              "\n",
              "    .dataframe tbody tr th {\n",
              "        vertical-align: top;\n",
              "    }\n",
              "\n",
              "    .dataframe thead th {\n",
              "        text-align: right;\n",
              "    }\n",
              "</style>\n",
              "<table border=\"1\" class=\"dataframe\">\n",
              "  <thead>\n",
              "    <tr style=\"text-align: right;\">\n",
              "      <th></th>\n",
              "      <th>image_path</th>\n",
              "      <th>xmin</th>\n",
              "      <th>ymin</th>\n",
              "      <th>xmax</th>\n",
              "      <th>ymax</th>\n",
              "      <th>label</th>\n",
              "    </tr>\n",
              "  </thead>\n",
              "  <tbody>\n",
              "  </tbody>\n",
              "</table>\n",
              "</div>\n",
              "      <button class=\"colab-df-convert\" onclick=\"convertToInteractive('df-b07e2148-ca27-43a2-bb5e-95a2ae6ff09d')\"\n",
              "              title=\"Convert this dataframe to an interactive table.\"\n",
              "              style=\"display:none;\">\n",
              "        \n",
              "  <svg xmlns=\"http://www.w3.org/2000/svg\" height=\"24px\"viewBox=\"0 0 24 24\"\n",
              "       width=\"24px\">\n",
              "    <path d=\"M0 0h24v24H0V0z\" fill=\"none\"/>\n",
              "    <path d=\"M18.56 5.44l.94 2.06.94-2.06 2.06-.94-2.06-.94-.94-2.06-.94 2.06-2.06.94zm-11 1L8.5 8.5l.94-2.06 2.06-.94-2.06-.94L8.5 2.5l-.94 2.06-2.06.94zm10 10l.94 2.06.94-2.06 2.06-.94-2.06-.94-.94-2.06-.94 2.06-2.06.94z\"/><path d=\"M17.41 7.96l-1.37-1.37c-.4-.4-.92-.59-1.43-.59-.52 0-1.04.2-1.43.59L10.3 9.45l-7.72 7.72c-.78.78-.78 2.05 0 2.83L4 21.41c.39.39.9.59 1.41.59.51 0 1.02-.2 1.41-.59l7.78-7.78 2.81-2.81c.8-.78.8-2.07 0-2.86zM5.41 20L4 18.59l7.72-7.72 1.47 1.35L5.41 20z\"/>\n",
              "  </svg>\n",
              "      </button>\n",
              "      \n",
              "  <style>\n",
              "    .colab-df-container {\n",
              "      display:flex;\n",
              "      flex-wrap:wrap;\n",
              "      gap: 12px;\n",
              "    }\n",
              "\n",
              "    .colab-df-convert {\n",
              "      background-color: #E8F0FE;\n",
              "      border: none;\n",
              "      border-radius: 50%;\n",
              "      cursor: pointer;\n",
              "      display: none;\n",
              "      fill: #1967D2;\n",
              "      height: 32px;\n",
              "      padding: 0 0 0 0;\n",
              "      width: 32px;\n",
              "    }\n",
              "\n",
              "    .colab-df-convert:hover {\n",
              "      background-color: #E2EBFA;\n",
              "      box-shadow: 0px 1px 2px rgba(60, 64, 67, 0.3), 0px 1px 3px 1px rgba(60, 64, 67, 0.15);\n",
              "      fill: #174EA6;\n",
              "    }\n",
              "\n",
              "    [theme=dark] .colab-df-convert {\n",
              "      background-color: #3B4455;\n",
              "      fill: #D2E3FC;\n",
              "    }\n",
              "\n",
              "    [theme=dark] .colab-df-convert:hover {\n",
              "      background-color: #434B5C;\n",
              "      box-shadow: 0px 1px 3px 1px rgba(0, 0, 0, 0.15);\n",
              "      filter: drop-shadow(0px 1px 2px rgba(0, 0, 0, 0.3));\n",
              "      fill: #FFFFFF;\n",
              "    }\n",
              "  </style>\n",
              "\n",
              "      <script>\n",
              "        const buttonEl =\n",
              "          document.querySelector('#df-b07e2148-ca27-43a2-bb5e-95a2ae6ff09d button.colab-df-convert');\n",
              "        buttonEl.style.display =\n",
              "          google.colab.kernel.accessAllowed ? 'block' : 'none';\n",
              "\n",
              "        async function convertToInteractive(key) {\n",
              "          const element = document.querySelector('#df-b07e2148-ca27-43a2-bb5e-95a2ae6ff09d');\n",
              "          const dataTable =\n",
              "            await google.colab.kernel.invokeFunction('convertToInteractive',\n",
              "                                                     [key], {});\n",
              "          if (!dataTable) return;\n",
              "\n",
              "          const docLinkHtml = 'Like what you see? Visit the ' +\n",
              "            '<a target=\"_blank\" href=https://colab.research.google.com/notebooks/data_table.ipynb>data table notebook</a>'\n",
              "            + ' to learn more about interactive tables.';\n",
              "          element.innerHTML = '';\n",
              "          dataTable['output_type'] = 'display_data';\n",
              "          await google.colab.output.renderOutput(dataTable, element);\n",
              "          const docLink = document.createElement('div');\n",
              "          docLink.innerHTML = docLinkHtml;\n",
              "          element.appendChild(docLink);\n",
              "        }\n",
              "      </script>\n",
              "    </div>\n",
              "  </div>\n",
              "  "
            ]
          },
          "metadata": {},
          "execution_count": 37
        }
      ]
    },
    {
      "cell_type": "code",
      "source": [
        "out_df.to_csv(\"/content/gdrive/MyDrive/ML_purpose/forest/csv/{}/{}_train_full.csv\".format(location, location), index=False)"
      ],
      "metadata": {
        "id": "rmdT5Hx9dFRy"
      },
      "execution_count": null,
      "outputs": []
    }
  ]
}