{
  "nbformat": 4,
  "nbformat_minor": 0,
  "metadata": {
    "colab": {
      "provenance": [],
      "authorship_tag": "ABX9TyOGhrfxLxXMivLCv+A2pmLe",
      "include_colab_link": true
    },
    "kernelspec": {
      "name": "python3",
      "display_name": "Python 3"
    },
    "language_info": {
      "name": "python"
    }
  },
  "cells": [
    {
      "cell_type": "markdown",
      "metadata": {
        "id": "view-in-github",
        "colab_type": "text"
      },
      "source": [
        "<a href=\"https://colab.research.google.com/github/pewtpong/wespace-forest-ml/blob/main/convert_2_deepforest_format.ipynb\" target=\"_parent\"><img src=\"https://colab.research.google.com/assets/colab-badge.svg\" alt=\"Open In Colab\"/></a>"
      ]
    },
    {
      "cell_type": "code",
      "execution_count": null,
      "metadata": {
        "colab": {
          "base_uri": "https://localhost:8080/"
        },
        "id": "n7uyWcAY55oF",
        "outputId": "e82fb964-f36f-429f-fd67-45d373913809"
      },
      "outputs": [
        {
          "output_type": "stream",
          "name": "stdout",
          "text": [
            "Mounted at /content/gdrive\n"
          ]
        }
      ],
      "source": [
        "from google.colab import drive\n",
        "drive.mount('/content/gdrive')"
      ]
    },
    {
      "cell_type": "code",
      "source": [
        "import pandas as pd\n",
        "import glob\n",
        "import numpy as np\n",
        "import random"
      ],
      "metadata": {
        "id": "nl1pKXbO6YS6"
      },
      "execution_count": null,
      "outputs": []
    },
    {
      "cell_type": "code",
      "source": [
        "location = \"benja\"\n",
        "location_dir = \"/content/gdrive/MyDrive/ML_purpose/forest/csv/{}/*.csv\".format(location)\n",
        "save_dir = \"/content/gdrive/MyDrive/ML_purpose/forest/csv/{}/*.csv\".format(location)"
      ],
      "metadata": {
        "id": "JeHhKNOd9412"
      },
      "execution_count": null,
      "outputs": []
    },
    {
      "cell_type": "code",
      "source": [
        "csv_list = glob.glob(location_dir)\n",
        "df_list = []\n",
        "for file_path in csv_list:\n",
        "  df = pd.read_csv(file_path)\n",
        "  df = df.rename(columns={\"bbox_x\": \"xmin\", \"bbox_y\": \"ymin\", \"image_name\": \"image_path\", \"label_name\": \"label\"})\n",
        "  df[\"xmax\"] = df[\"xmin\"] + df[\"bbox_width\"]\n",
        "  df[\"ymax\"] = df[\"ymin\"] + df[\"bbox_height\"]\n",
        "  df[\"label\"] = df[\"label\"].str.capitalize()\n",
        "  df_list.append(df)\n",
        "merged_df = pd.concat(df_list)\n",
        "merged_df = merged_df.reset_index()\n",
        "merged_df = merged_df[[\"image_path\", \"xmin\", \"ymin\", \"xmax\", \"ymax\", \"label\"]]\n",
        "merged_df"
      ],
      "metadata": {
        "colab": {
          "base_uri": "https://localhost:8080/",
          "height": 424
        },
        "id": "b7rZ7tNJJwWo",
        "outputId": "34bf8c57-8ca8-49dd-e758-686d77d97d83"
      },
      "execution_count": null,
      "outputs": [
        {
          "output_type": "execute_result",
          "data": {
            "text/plain": [
              "                  image_path  xmin  ymin  xmax  ymax label\n",
              "0     benja_12_gamma_1_4.png    85    78   130   118  Tree\n",
              "1     benja_12_gamma_1_4.png   143    62   173    96  Tree\n",
              "2     benja_12_gamma_1_4.png   100    24   124    51  Tree\n",
              "3     benja_12_gamma_1_4.png   108   184   130   210  Tree\n",
              "4     benja_12_gamma_1_4.png     0   108    22   131  Tree\n",
              "...                      ...   ...   ...   ...   ...   ...\n",
              "2146  benja_11_gamma_1_4.png   339   300   380   335  Tree\n",
              "2147  benja_11_gamma_1_4.png   557   501   587   526  Tree\n",
              "2148  benja_11_gamma_1_4.png   508   531   532   553  Tree\n",
              "2149  benja_11_gamma_1_4.png   354   512   389   544  Tree\n",
              "2150  benja_11_gamma_1_4.png   188   455   218   484  Tree\n",
              "\n",
              "[2151 rows x 6 columns]"
            ],
            "text/html": [
              "\n",
              "  <div id=\"df-3be1520b-1fef-4080-8d5a-9d3494ade9b9\">\n",
              "    <div class=\"colab-df-container\">\n",
              "      <div>\n",
              "<style scoped>\n",
              "    .dataframe tbody tr th:only-of-type {\n",
              "        vertical-align: middle;\n",
              "    }\n",
              "\n",
              "    .dataframe tbody tr th {\n",
              "        vertical-align: top;\n",
              "    }\n",
              "\n",
              "    .dataframe thead th {\n",
              "        text-align: right;\n",
              "    }\n",
              "</style>\n",
              "<table border=\"1\" class=\"dataframe\">\n",
              "  <thead>\n",
              "    <tr style=\"text-align: right;\">\n",
              "      <th></th>\n",
              "      <th>image_path</th>\n",
              "      <th>xmin</th>\n",
              "      <th>ymin</th>\n",
              "      <th>xmax</th>\n",
              "      <th>ymax</th>\n",
              "      <th>label</th>\n",
              "    </tr>\n",
              "  </thead>\n",
              "  <tbody>\n",
              "    <tr>\n",
              "      <th>0</th>\n",
              "      <td>benja_12_gamma_1_4.png</td>\n",
              "      <td>85</td>\n",
              "      <td>78</td>\n",
              "      <td>130</td>\n",
              "      <td>118</td>\n",
              "      <td>Tree</td>\n",
              "    </tr>\n",
              "    <tr>\n",
              "      <th>1</th>\n",
              "      <td>benja_12_gamma_1_4.png</td>\n",
              "      <td>143</td>\n",
              "      <td>62</td>\n",
              "      <td>173</td>\n",
              "      <td>96</td>\n",
              "      <td>Tree</td>\n",
              "    </tr>\n",
              "    <tr>\n",
              "      <th>2</th>\n",
              "      <td>benja_12_gamma_1_4.png</td>\n",
              "      <td>100</td>\n",
              "      <td>24</td>\n",
              "      <td>124</td>\n",
              "      <td>51</td>\n",
              "      <td>Tree</td>\n",
              "    </tr>\n",
              "    <tr>\n",
              "      <th>3</th>\n",
              "      <td>benja_12_gamma_1_4.png</td>\n",
              "      <td>108</td>\n",
              "      <td>184</td>\n",
              "      <td>130</td>\n",
              "      <td>210</td>\n",
              "      <td>Tree</td>\n",
              "    </tr>\n",
              "    <tr>\n",
              "      <th>4</th>\n",
              "      <td>benja_12_gamma_1_4.png</td>\n",
              "      <td>0</td>\n",
              "      <td>108</td>\n",
              "      <td>22</td>\n",
              "      <td>131</td>\n",
              "      <td>Tree</td>\n",
              "    </tr>\n",
              "    <tr>\n",
              "      <th>...</th>\n",
              "      <td>...</td>\n",
              "      <td>...</td>\n",
              "      <td>...</td>\n",
              "      <td>...</td>\n",
              "      <td>...</td>\n",
              "      <td>...</td>\n",
              "    </tr>\n",
              "    <tr>\n",
              "      <th>2146</th>\n",
              "      <td>benja_11_gamma_1_4.png</td>\n",
              "      <td>339</td>\n",
              "      <td>300</td>\n",
              "      <td>380</td>\n",
              "      <td>335</td>\n",
              "      <td>Tree</td>\n",
              "    </tr>\n",
              "    <tr>\n",
              "      <th>2147</th>\n",
              "      <td>benja_11_gamma_1_4.png</td>\n",
              "      <td>557</td>\n",
              "      <td>501</td>\n",
              "      <td>587</td>\n",
              "      <td>526</td>\n",
              "      <td>Tree</td>\n",
              "    </tr>\n",
              "    <tr>\n",
              "      <th>2148</th>\n",
              "      <td>benja_11_gamma_1_4.png</td>\n",
              "      <td>508</td>\n",
              "      <td>531</td>\n",
              "      <td>532</td>\n",
              "      <td>553</td>\n",
              "      <td>Tree</td>\n",
              "    </tr>\n",
              "    <tr>\n",
              "      <th>2149</th>\n",
              "      <td>benja_11_gamma_1_4.png</td>\n",
              "      <td>354</td>\n",
              "      <td>512</td>\n",
              "      <td>389</td>\n",
              "      <td>544</td>\n",
              "      <td>Tree</td>\n",
              "    </tr>\n",
              "    <tr>\n",
              "      <th>2150</th>\n",
              "      <td>benja_11_gamma_1_4.png</td>\n",
              "      <td>188</td>\n",
              "      <td>455</td>\n",
              "      <td>218</td>\n",
              "      <td>484</td>\n",
              "      <td>Tree</td>\n",
              "    </tr>\n",
              "  </tbody>\n",
              "</table>\n",
              "<p>2151 rows × 6 columns</p>\n",
              "</div>\n",
              "      <button class=\"colab-df-convert\" onclick=\"convertToInteractive('df-3be1520b-1fef-4080-8d5a-9d3494ade9b9')\"\n",
              "              title=\"Convert this dataframe to an interactive table.\"\n",
              "              style=\"display:none;\">\n",
              "        \n",
              "  <svg xmlns=\"http://www.w3.org/2000/svg\" height=\"24px\"viewBox=\"0 0 24 24\"\n",
              "       width=\"24px\">\n",
              "    <path d=\"M0 0h24v24H0V0z\" fill=\"none\"/>\n",
              "    <path d=\"M18.56 5.44l.94 2.06.94-2.06 2.06-.94-2.06-.94-.94-2.06-.94 2.06-2.06.94zm-11 1L8.5 8.5l.94-2.06 2.06-.94-2.06-.94L8.5 2.5l-.94 2.06-2.06.94zm10 10l.94 2.06.94-2.06 2.06-.94-2.06-.94-.94-2.06-.94 2.06-2.06.94z\"/><path d=\"M17.41 7.96l-1.37-1.37c-.4-.4-.92-.59-1.43-.59-.52 0-1.04.2-1.43.59L10.3 9.45l-7.72 7.72c-.78.78-.78 2.05 0 2.83L4 21.41c.39.39.9.59 1.41.59.51 0 1.02-.2 1.41-.59l7.78-7.78 2.81-2.81c.8-.78.8-2.07 0-2.86zM5.41 20L4 18.59l7.72-7.72 1.47 1.35L5.41 20z\"/>\n",
              "  </svg>\n",
              "      </button>\n",
              "      \n",
              "  <style>\n",
              "    .colab-df-container {\n",
              "      display:flex;\n",
              "      flex-wrap:wrap;\n",
              "      gap: 12px;\n",
              "    }\n",
              "\n",
              "    .colab-df-convert {\n",
              "      background-color: #E8F0FE;\n",
              "      border: none;\n",
              "      border-radius: 50%;\n",
              "      cursor: pointer;\n",
              "      display: none;\n",
              "      fill: #1967D2;\n",
              "      height: 32px;\n",
              "      padding: 0 0 0 0;\n",
              "      width: 32px;\n",
              "    }\n",
              "\n",
              "    .colab-df-convert:hover {\n",
              "      background-color: #E2EBFA;\n",
              "      box-shadow: 0px 1px 2px rgba(60, 64, 67, 0.3), 0px 1px 3px 1px rgba(60, 64, 67, 0.15);\n",
              "      fill: #174EA6;\n",
              "    }\n",
              "\n",
              "    [theme=dark] .colab-df-convert {\n",
              "      background-color: #3B4455;\n",
              "      fill: #D2E3FC;\n",
              "    }\n",
              "\n",
              "    [theme=dark] .colab-df-convert:hover {\n",
              "      background-color: #434B5C;\n",
              "      box-shadow: 0px 1px 3px 1px rgba(0, 0, 0, 0.15);\n",
              "      filter: drop-shadow(0px 1px 2px rgba(0, 0, 0, 0.3));\n",
              "      fill: #FFFFFF;\n",
              "    }\n",
              "  </style>\n",
              "\n",
              "      <script>\n",
              "        const buttonEl =\n",
              "          document.querySelector('#df-3be1520b-1fef-4080-8d5a-9d3494ade9b9 button.colab-df-convert');\n",
              "        buttonEl.style.display =\n",
              "          google.colab.kernel.accessAllowed ? 'block' : 'none';\n",
              "\n",
              "        async function convertToInteractive(key) {\n",
              "          const element = document.querySelector('#df-3be1520b-1fef-4080-8d5a-9d3494ade9b9');\n",
              "          const dataTable =\n",
              "            await google.colab.kernel.invokeFunction('convertToInteractive',\n",
              "                                                     [key], {});\n",
              "          if (!dataTable) return;\n",
              "\n",
              "          const docLinkHtml = 'Like what you see? Visit the ' +\n",
              "            '<a target=\"_blank\" href=https://colab.research.google.com/notebooks/data_table.ipynb>data table notebook</a>'\n",
              "            + ' to learn more about interactive tables.';\n",
              "          element.innerHTML = '';\n",
              "          dataTable['output_type'] = 'display_data';\n",
              "          await google.colab.output.renderOutput(dataTable, element);\n",
              "          const docLink = document.createElement('div');\n",
              "          docLink.innerHTML = docLinkHtml;\n",
              "          element.appendChild(docLink);\n",
              "        }\n",
              "      </script>\n",
              "    </div>\n",
              "  </div>\n",
              "  "
            ]
          },
          "metadata": {},
          "execution_count": 29
        }
      ]
    },
    {
      "cell_type": "code",
      "source": [
        "merged_df.to_csv(\"/content/gdrive/MyDrive/ML_purpose/forest/csv/{}/{}.csv\".format(location, location + \"_full\"))"
      ],
      "metadata": {
        "id": "0wkWhGR49zKC"
      },
      "execution_count": null,
      "outputs": []
    },
    {
      "cell_type": "markdown",
      "source": [
        "#Split temp train test"
      ],
      "metadata": {
        "id": "zGQKqVKWC2Su"
      }
    },
    {
      "cell_type": "code",
      "source": [
        "merged_df[\"image_path\"].unique()"
      ],
      "metadata": {
        "colab": {
          "base_uri": "https://localhost:8080/"
        },
        "id": "9EfYQegXeA9P",
        "outputId": "85a62b26-b3ce-4546-cd8c-b1fbdf193b63"
      },
      "execution_count": null,
      "outputs": [
        {
          "output_type": "execute_result",
          "data": {
            "text/plain": [
              "array(['benja_12_gamma_1_4.png', 'benja_13_gamma_1_4.png',\n",
              "       'benja_14_gamma_1_4.png', 'benja_15_gamma_1_4.png',\n",
              "       'benja_16_gamma_1_4.png', 'benja_17_gamma_1_4.png',\n",
              "       'benja_18_gamma_1_4.png', 'benja_19_gamma_1_4.png',\n",
              "       'benja_20_gamma_1_4.png', 'benja_21_gamma_1_4.png',\n",
              "       'benja_22_gamma_1_4.png', 'benja_23_gamma_1_4.png',\n",
              "       'benja_24_gamma_1_4.png', 'benja_34_gamma_1_4.png',\n",
              "       'benja_30_gamma_1_4.png', 'benja_31_gamma_1_4.png',\n",
              "       'benja_32_gamma_1_4.png', 'benja_33_gamma_1_4.png',\n",
              "       'benja_25_gamma_1_4.png', 'benja_26_gamma_1_4.png',\n",
              "       'benja_27_gamma_1_4.png', 'benja_28_gamma_1_4.png',\n",
              "       'benja_29_gamma_1_4.png', 'benja_0_gamma_1_4.png',\n",
              "       'benja_2_gamma_1_4.png', 'benja_3_gamma_1_4.png',\n",
              "       'benja_4_gamma_1_4.png', 'benja_5_gamma_1_4.png',\n",
              "       'benja_6_gamma_1_4.png', 'benja_7_gamma_1_4.png',\n",
              "       'benja_8_gamma_1_4.png', 'benja_9_gamma_1_4.png',\n",
              "       'benja_10_gamma_1_4.png', 'benja_11_gamma_1_4.png'], dtype=object)"
            ]
          },
          "metadata": {},
          "execution_count": 35
        }
      ]
    },
    {
      "cell_type": "code",
      "source": [
        "file_name = merged_df[\"image_path\"].unique()\n",
        "test = random.sample(file_name.tolist(), 6)\n",
        "test"
      ],
      "metadata": {
        "colab": {
          "base_uri": "https://localhost:8080/"
        },
        "id": "DM0HVHA_e8YJ",
        "outputId": "b537aa5e-64ea-4325-bc60-b3f12f8423d9"
      },
      "execution_count": null,
      "outputs": [
        {
          "output_type": "execute_result",
          "data": {
            "text/plain": [
              "['benja_10_gamma_1_4.png',\n",
              " 'benja_11_gamma_1_4.png',\n",
              " 'benja_15_gamma_1_4.png',\n",
              " 'benja_34_gamma_1_4.png',\n",
              " 'benja_28_gamma_1_4.png',\n",
              " 'benja_19_gamma_1_4.png']"
            ]
          },
          "metadata": {},
          "execution_count": 49
        }
      ]
    },
    {
      "cell_type": "code",
      "source": [
        "df_test=merged_df[merged_df[\"image_path\"].isin(test)]\n",
        "df_train=merged_df.drop(df_test.index)"
      ],
      "metadata": {
        "id": "cXirvq9fQc7f"
      },
      "execution_count": null,
      "outputs": []
    },
    {
      "cell_type": "code",
      "source": [
        "df_train[\"image_path\"].unique()"
      ],
      "metadata": {
        "colab": {
          "base_uri": "https://localhost:8080/"
        },
        "id": "ewzI1Rzpgk0f",
        "outputId": "3904bf69-64ab-454e-cf73-d1a6873a90f4"
      },
      "execution_count": null,
      "outputs": [
        {
          "output_type": "execute_result",
          "data": {
            "text/plain": [
              "array(['benja_12_gamma_1_4.png', 'benja_13_gamma_1_4.png',\n",
              "       'benja_14_gamma_1_4.png', 'benja_16_gamma_1_4.png',\n",
              "       'benja_17_gamma_1_4.png', 'benja_18_gamma_1_4.png',\n",
              "       'benja_20_gamma_1_4.png', 'benja_21_gamma_1_4.png',\n",
              "       'benja_22_gamma_1_4.png', 'benja_23_gamma_1_4.png',\n",
              "       'benja_24_gamma_1_4.png', 'benja_30_gamma_1_4.png',\n",
              "       'benja_31_gamma_1_4.png', 'benja_32_gamma_1_4.png',\n",
              "       'benja_33_gamma_1_4.png', 'benja_25_gamma_1_4.png',\n",
              "       'benja_26_gamma_1_4.png', 'benja_27_gamma_1_4.png',\n",
              "       'benja_29_gamma_1_4.png', 'benja_0_gamma_1_4.png',\n",
              "       'benja_2_gamma_1_4.png', 'benja_3_gamma_1_4.png',\n",
              "       'benja_4_gamma_1_4.png', 'benja_5_gamma_1_4.png',\n",
              "       'benja_6_gamma_1_4.png', 'benja_7_gamma_1_4.png',\n",
              "       'benja_8_gamma_1_4.png', 'benja_9_gamma_1_4.png'], dtype=object)"
            ]
          },
          "metadata": {},
          "execution_count": 51
        }
      ]
    },
    {
      "cell_type": "code",
      "source": [
        "df_test[\"image_path\"].unique()"
      ],
      "metadata": {
        "colab": {
          "base_uri": "https://localhost:8080/"
        },
        "id": "IjYfYj8tgpJS",
        "outputId": "0eb20eb0-feba-4990-b975-272bd8f86cd7"
      },
      "execution_count": null,
      "outputs": [
        {
          "output_type": "execute_result",
          "data": {
            "text/plain": [
              "array(['benja_15_gamma_1_4.png', 'benja_19_gamma_1_4.png',\n",
              "       'benja_34_gamma_1_4.png', 'benja_28_gamma_1_4.png',\n",
              "       'benja_10_gamma_1_4.png', 'benja_11_gamma_1_4.png'], dtype=object)"
            ]
          },
          "metadata": {},
          "execution_count": 52
        }
      ]
    },
    {
      "cell_type": "code",
      "source": [
        "for index, row in df_test.iterrows():\n",
        "  if row[\"xmax\"] < row[\"xmin\"]:\n",
        "    row[\"xmax\"], row[\"xmin\"] = row[\"xmin\"], row[\"xmax\"]\n",
        "  if row[\"ymax\"] < row[\"ymin\"]:\n",
        "    row[\"ymax\"], row[\"ymin\"] = row[\"ymin\"], row[\"ymax\"]\n",
        "df_test = df_test[(df_test[\"ymax\"] > df_test[\"ymin\"]) & (df_test[\"xmax\"] > df_test[\"xmin\"])]"
      ],
      "metadata": {
        "id": "Jag1WVZdkU3o"
      },
      "execution_count": null,
      "outputs": []
    },
    {
      "cell_type": "code",
      "source": [
        "df_train.to_csv(\"/content/gdrive/MyDrive/ML_purpose/forest/csv/{}/{}.csv\".format(location, location + \"_train\"), index=False)\n",
        "df_test.to_csv(\"/content/gdrive/MyDrive/ML_purpose/forest/csv/{}/{}.csv\".format(location, location + \"_test\"), index=False)"
      ],
      "metadata": {
        "id": "7Ut_pRBWDafq"
      },
      "execution_count": null,
      "outputs": []
    },
    {
      "cell_type": "code",
      "source": [
        "df_test[df_test[\"xmax\"] <= df_test[\"xmin\"]]"
      ],
      "metadata": {
        "colab": {
          "base_uri": "https://localhost:8080/",
          "height": 49
        },
        "id": "RZsAUaI0kvHT",
        "outputId": "bb6ba879-2434-4f75-ddb7-577e564636d1"
      },
      "execution_count": null,
      "outputs": [
        {
          "output_type": "execute_result",
          "data": {
            "text/plain": [
              "Empty DataFrame\n",
              "Columns: [image_path, xmin, ymin, xmax, ymax, label]\n",
              "Index: []"
            ],
            "text/html": [
              "\n",
              "  <div id=\"df-dac26e8b-0928-4811-8c5c-2cbaf21eb065\">\n",
              "    <div class=\"colab-df-container\">\n",
              "      <div>\n",
              "<style scoped>\n",
              "    .dataframe tbody tr th:only-of-type {\n",
              "        vertical-align: middle;\n",
              "    }\n",
              "\n",
              "    .dataframe tbody tr th {\n",
              "        vertical-align: top;\n",
              "    }\n",
              "\n",
              "    .dataframe thead th {\n",
              "        text-align: right;\n",
              "    }\n",
              "</style>\n",
              "<table border=\"1\" class=\"dataframe\">\n",
              "  <thead>\n",
              "    <tr style=\"text-align: right;\">\n",
              "      <th></th>\n",
              "      <th>image_path</th>\n",
              "      <th>xmin</th>\n",
              "      <th>ymin</th>\n",
              "      <th>xmax</th>\n",
              "      <th>ymax</th>\n",
              "      <th>label</th>\n",
              "    </tr>\n",
              "  </thead>\n",
              "  <tbody>\n",
              "  </tbody>\n",
              "</table>\n",
              "</div>\n",
              "      <button class=\"colab-df-convert\" onclick=\"convertToInteractive('df-dac26e8b-0928-4811-8c5c-2cbaf21eb065')\"\n",
              "              title=\"Convert this dataframe to an interactive table.\"\n",
              "              style=\"display:none;\">\n",
              "        \n",
              "  <svg xmlns=\"http://www.w3.org/2000/svg\" height=\"24px\"viewBox=\"0 0 24 24\"\n",
              "       width=\"24px\">\n",
              "    <path d=\"M0 0h24v24H0V0z\" fill=\"none\"/>\n",
              "    <path d=\"M18.56 5.44l.94 2.06.94-2.06 2.06-.94-2.06-.94-.94-2.06-.94 2.06-2.06.94zm-11 1L8.5 8.5l.94-2.06 2.06-.94-2.06-.94L8.5 2.5l-.94 2.06-2.06.94zm10 10l.94 2.06.94-2.06 2.06-.94-2.06-.94-.94-2.06-.94 2.06-2.06.94z\"/><path d=\"M17.41 7.96l-1.37-1.37c-.4-.4-.92-.59-1.43-.59-.52 0-1.04.2-1.43.59L10.3 9.45l-7.72 7.72c-.78.78-.78 2.05 0 2.83L4 21.41c.39.39.9.59 1.41.59.51 0 1.02-.2 1.41-.59l7.78-7.78 2.81-2.81c.8-.78.8-2.07 0-2.86zM5.41 20L4 18.59l7.72-7.72 1.47 1.35L5.41 20z\"/>\n",
              "  </svg>\n",
              "      </button>\n",
              "      \n",
              "  <style>\n",
              "    .colab-df-container {\n",
              "      display:flex;\n",
              "      flex-wrap:wrap;\n",
              "      gap: 12px;\n",
              "    }\n",
              "\n",
              "    .colab-df-convert {\n",
              "      background-color: #E8F0FE;\n",
              "      border: none;\n",
              "      border-radius: 50%;\n",
              "      cursor: pointer;\n",
              "      display: none;\n",
              "      fill: #1967D2;\n",
              "      height: 32px;\n",
              "      padding: 0 0 0 0;\n",
              "      width: 32px;\n",
              "    }\n",
              "\n",
              "    .colab-df-convert:hover {\n",
              "      background-color: #E2EBFA;\n",
              "      box-shadow: 0px 1px 2px rgba(60, 64, 67, 0.3), 0px 1px 3px 1px rgba(60, 64, 67, 0.15);\n",
              "      fill: #174EA6;\n",
              "    }\n",
              "\n",
              "    [theme=dark] .colab-df-convert {\n",
              "      background-color: #3B4455;\n",
              "      fill: #D2E3FC;\n",
              "    }\n",
              "\n",
              "    [theme=dark] .colab-df-convert:hover {\n",
              "      background-color: #434B5C;\n",
              "      box-shadow: 0px 1px 3px 1px rgba(0, 0, 0, 0.15);\n",
              "      filter: drop-shadow(0px 1px 2px rgba(0, 0, 0, 0.3));\n",
              "      fill: #FFFFFF;\n",
              "    }\n",
              "  </style>\n",
              "\n",
              "      <script>\n",
              "        const buttonEl =\n",
              "          document.querySelector('#df-dac26e8b-0928-4811-8c5c-2cbaf21eb065 button.colab-df-convert');\n",
              "        buttonEl.style.display =\n",
              "          google.colab.kernel.accessAllowed ? 'block' : 'none';\n",
              "\n",
              "        async function convertToInteractive(key) {\n",
              "          const element = document.querySelector('#df-dac26e8b-0928-4811-8c5c-2cbaf21eb065');\n",
              "          const dataTable =\n",
              "            await google.colab.kernel.invokeFunction('convertToInteractive',\n",
              "                                                     [key], {});\n",
              "          if (!dataTable) return;\n",
              "\n",
              "          const docLinkHtml = 'Like what you see? Visit the ' +\n",
              "            '<a target=\"_blank\" href=https://colab.research.google.com/notebooks/data_table.ipynb>data table notebook</a>'\n",
              "            + ' to learn more about interactive tables.';\n",
              "          element.innerHTML = '';\n",
              "          dataTable['output_type'] = 'display_data';\n",
              "          await google.colab.output.renderOutput(dataTable, element);\n",
              "          const docLink = document.createElement('div');\n",
              "          docLink.innerHTML = docLinkHtml;\n",
              "          element.appendChild(docLink);\n",
              "        }\n",
              "      </script>\n",
              "    </div>\n",
              "  </div>\n",
              "  "
            ]
          },
          "metadata": {},
          "execution_count": 57
        }
      ]
    }
  ]
}